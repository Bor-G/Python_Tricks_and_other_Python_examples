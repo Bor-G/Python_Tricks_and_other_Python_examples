{
 "cells": [
  {
   "cell_type": "code",
   "execution_count": 1,
   "metadata": {},
   "outputs": [
    {
     "name": "stdout",
     "output_type": "stream",
     "text": [
      "from list:  [(1, 4), (2, 5), (7, 3), (4, 6), (7, 7)]\n",
      "longest sub-list:  [(2, 5), (7, 3)]\n",
      "start index:  1 , number of elements = 2\n"
     ]
    }
   ],
   "source": [
    "l=[(1,4), (2,5), (7, 3),(4,6),(7,7)]  #initialize the list of pairs \n",
    "i=1\n",
    "i0=0      #first index of longest sub-list\n",
    "length_max=0    # max length of sublist(longest)\n",
    "length_tmp=0  #temporary value for length sublist\n",
    "while i<(len(l)):   #cycle of list of pairs\n",
    "    k=l[i-1]\n",
    "    kk=l[i]\n",
    "    if (k[0]<kk[0]):\n",
    "        if (k[1]>kk[1]):    #comparing values by entry\n",
    "            length_tmp+=1\n",
    "            if length_tmp > length_max:\n",
    "                length_max=length_tmp\n",
    "                i0=i-length_tmp\n",
    "    else:\n",
    "        if length_tmp > length_max:\n",
    "            length_max=length_tmp\n",
    "            i0=i-length_tmp\n",
    "        length_tmp=0\n",
    "    i+=1\n",
    "print (\"from list: \",l)\n",
    "print (\"longest sub-list: \",l[i0:(length_max+1+i0):1]) #print result sublist\n",
    "print (\"start index: \", i0, \", number of elements =\",length_max+1)"
   ]
  },
  {
   "cell_type": "code",
   "execution_count": 2,
   "metadata": {},
   "outputs": [
    {
     "name": "stdout",
     "output_type": "stream",
     "text": [
      "906609\n"
     ]
    }
   ],
   "source": [
    "l=[]\n",
    "for count in range(100,999,1):\n",
    "    for count1 in range(100,999,1):\n",
    "        cc=str(count*count1)\n",
    "        if len(cc)==6:\n",
    "            ca=cc[:3]\n",
    "            ac=cc[3:]\n",
    "            if ca == ac[::-1]:\n",
    "                l.append(cc)\n",
    "print (max(l))"
   ]
  },
  {
   "cell_type": "code",
   "execution_count": 4,
   "metadata": {},
   "outputs": [
    {
     "data": {
      "text/plain": [
       "977"
      ]
     },
     "execution_count": 4,
     "metadata": {},
     "output_type": "execute_result"
    }
   ],
   "source": [
    "len(l)"
   ]
  },
  {
   "cell_type": "code",
   "execution_count": 5,
   "metadata": {},
   "outputs": [
    {
     "name": "stdout",
     "output_type": "stream",
     "text": [
      "648\n"
     ]
    }
   ],
   "source": [
    "factorial=1\n",
    "for i in range(1,100):\n",
    "    factorial=i*factorial\n",
    "summ=str(factorial)\n",
    "s=0\n",
    "for i in range(len(summ)):\n",
    "   s+=int(summ[i]) \n",
    "print (s)"
   ]
  },
  {
   "cell_type": "code",
   "execution_count": null,
   "metadata": {},
   "outputs": [],
   "source": []
  }
 ],
 "metadata": {
  "kernelspec": {
   "display_name": "Python 3",
   "language": "python",
   "name": "python3"
  },
  "language_info": {
   "codemirror_mode": {
    "name": "ipython",
    "version": 3
   },
   "file_extension": ".py",
   "mimetype": "text/x-python",
   "name": "python",
   "nbconvert_exporter": "python",
   "pygments_lexer": "ipython3",
   "version": "3.7.3"
  }
 },
 "nbformat": 4,
 "nbformat_minor": 2
}
